{
 "cells": [
  {
   "cell_type": "markdown",
   "id": "8e598b1e",
   "metadata": {},
   "source": [
    "# QUESTION_1"
   ]
  },
  {
   "cell_type": "code",
   "execution_count": 18,
   "id": "3521fe87",
   "metadata": {},
   "outputs": [
    {
     "name": "stdout",
     "output_type": "stream",
     "text": [
      "Element at index: 7\n"
     ]
    }
   ],
   "source": [
    "def binary_search(arr, target):\n",
    "    low, high = 0, len(arr) - 1\n",
    "\n",
    "    while low <= high:\n",
    "        mid = (low + high) // 2\n",
    "        if arr[mid] == target:\n",
    "            return mid\n",
    "        elif arr[mid] < target:\n",
    "            low = mid + 1\n",
    "        else:\n",
    "            high = mid - 1\n",
    "\n",
    "    return -1\n",
    "\n",
    "arr=[12,-3,5,67,23,11,26,67,99,45,10,43]\n",
    "print(\"Element at index:\",binary_search(arr,67))"
   ]
  },
  {
   "cell_type": "markdown",
   "id": "edd39679",
   "metadata": {},
   "source": [
    "# QUESTION_2"
   ]
  },
  {
   "cell_type": "code",
   "execution_count": 19,
   "id": "14ffdf4a",
   "metadata": {},
   "outputs": [],
   "source": [
    "def merge(left, right):\n",
    "    result = []\n",
    "    left_idx, right_idx = 0, 0\n",
    "\n",
    "    while left_idx < len(left) and right_idx < len(right):\n",
    "        if left[left_idx] < right[right_idx]:\n",
    "            result.append(left[left_idx])\n",
    "            left_idx += 1\n",
    "        else:\n",
    "            result.append(right[right_idx])\n",
    "            right_idx += 1\n",
    "\n",
    "    result.extend(left[left_idx:])\n",
    "    result.extend(right[right_idx:])\n",
    "    return result"
   ]
  },
  {
   "cell_type": "code",
   "execution_count": 20,
   "id": "4ff806e3",
   "metadata": {},
   "outputs": [
    {
     "name": "stdout",
     "output_type": "stream",
     "text": [
      "Sorted List: [-19, -3, 5, 10, 11, 12, 23, 26, 43, 45, 67, 67, 99, 101, 232]\n"
     ]
    }
   ],
   "source": [
    "def merge_sort(arr):\n",
    "    if len(arr) <= 1:\n",
    "        return arr\n",
    "\n",
    "    mid = len(arr) // 2\n",
    "    left_half = arr[:mid]\n",
    "    right_half = arr[mid:]\n",
    "\n",
    "    left_half = merge_sort(left_half)\n",
    "    right_half = merge_sort(right_half)\n",
    "\n",
    "    return merge(left_half, right_half)\n",
    "arrr=[12,-3,5,67,23,-19,11,26,67,99,45,10,43,101,232]\n",
    "print(\"Sorted List:\",merge_sort(arrr))"
   ]
  },
  {
   "cell_type": "markdown",
   "id": "b9488a6c",
   "metadata": {},
   "source": [
    "# QUESTION_3"
   ]
  },
  {
   "cell_type": "code",
   "execution_count": 21,
   "id": "bd79428d",
   "metadata": {},
   "outputs": [
    {
     "name": "stdout",
     "output_type": "stream",
     "text": [
      "Sorted List: [-78, -54, -23, -4, 0, 10, 12, 45, 54, 78, 98, 111, 213]\n"
     ]
    }
   ],
   "source": [
    "def quick_sort(arr1):\n",
    "    if len(arr1) <= 1:\n",
    "        return arr1\n",
    "    else:\n",
    "        p=arr1[0]\n",
    "        l=[i for i in arr1[1:] if i<=p]\n",
    "        r=[i for i in arr1[1:] if i>p]\n",
    "        return quick_sort(l)+[p]+quick_sort(r)\n",
    "\n",
    "arr1 = [12,0,78,-23,-54,98,111,213,54,-78,10,45,-4]\n",
    "print(\"Sorted List:\",quick_sort(arr1))"
   ]
  },
  {
   "cell_type": "markdown",
   "id": "67351cab",
   "metadata": {},
   "source": [
    "# QUESTION_4"
   ]
  },
  {
   "cell_type": "code",
   "execution_count": 22,
   "id": "6955a058",
   "metadata": {},
   "outputs": [
    {
     "name": "stdout",
     "output_type": "stream",
     "text": [
      "Sorted List: [-99, -78, -54, -23, -4, 0, 10, 12, 34, 45, 54, 67, 78, 87, 98, 111, 213]\n"
     ]
    }
   ],
   "source": [
    "def insertion_sort(arr2):\n",
    "    l=len(arr2)\n",
    "    for i in range(1, l):\n",
    "        key = arr2[i]\n",
    "        j = i - 1\n",
    "        while j >= 0 and key < arr2[j]:\n",
    "            arr2[j + 1] = arr2[j]\n",
    "            j -= 1\n",
    "        arr2[j + 1] = key \n",
    "        \n",
    "    return arr2\n",
    "arr2 = [12,0,78,-23,-54,98,111,213,54,-78,10,45,-4,34,87,67,-99]\n",
    "print(\"Sorted List:\",insertion_sort(arr2))"
   ]
  },
  {
   "cell_type": "markdown",
   "id": "bd228571",
   "metadata": {},
   "source": [
    "# QUESTION_5"
   ]
  },
  {
   "cell_type": "code",
   "execution_count": 23,
   "id": "cfa95f1e",
   "metadata": {},
   "outputs": [
    {
     "name": "stdout",
     "output_type": "stream",
     "text": [
      "Original list: ['banana', 'apple', 'grape', 'cherry', 'date']\n",
      "Sorted list: ['apple', 'banana', 'cherry', 'date', 'grape']\n"
     ]
    }
   ],
   "source": [
    "def sort_strings(strings):\n",
    "    return merge_sort(strings)  \n",
    "\n",
    "if __name__ == \"__main__\":\n",
    "    string_list = [\"banana\", \"apple\", \"grape\", \"cherry\", \"date\"]\n",
    "    \n",
    "    print(\"Original list:\", string_list)\n",
    "    \n",
    "    sorted_list = sort_strings(string_list)\n",
    "    \n",
    "    print(\"Sorted list:\", sorted_list)"
   ]
  },
  {
   "cell_type": "code",
   "execution_count": null,
   "id": "4f60b2d7",
   "metadata": {},
   "outputs": [],
   "source": []
  },
  {
   "cell_type": "code",
   "execution_count": null,
   "id": "0b6d456c",
   "metadata": {},
   "outputs": [],
   "source": []
  }
 ],
 "metadata": {
  "kernelspec": {
   "display_name": "Python 3 (ipykernel)",
   "language": "python",
   "name": "python3"
  },
  "language_info": {
   "codemirror_mode": {
    "name": "ipython",
    "version": 3
   },
   "file_extension": ".py",
   "mimetype": "text/x-python",
   "name": "python",
   "nbconvert_exporter": "python",
   "pygments_lexer": "ipython3",
   "version": "3.10.9"
  },
  "varInspector": {
   "cols": {
    "lenName": 16,
    "lenType": 16,
    "lenVar": 40
   },
   "kernels_config": {
    "python": {
     "delete_cmd_postfix": "",
     "delete_cmd_prefix": "del ",
     "library": "var_list.py",
     "varRefreshCmd": "print(var_dic_list())"
    },
    "r": {
     "delete_cmd_postfix": ") ",
     "delete_cmd_prefix": "rm(",
     "library": "var_list.r",
     "varRefreshCmd": "cat(var_dic_list()) "
    }
   },
   "types_to_exclude": [
    "module",
    "function",
    "builtin_function_or_method",
    "instance",
    "_Feature"
   ],
   "window_display": false
  }
 },
 "nbformat": 4,
 "nbformat_minor": 5
}
